{
 "cells": [
  {
   "cell_type": "code",
   "execution_count": null,
   "metadata": {},
   "outputs": [],
   "source": [
    "import os\n",
    "import librosa\n",
    "import pickle\n",
    "import numpy as np\n",
    "import pandas as pd\n",
    "import matplotlib.pyplot as plt\n",
    "import seaborn as sns"
   ]
  },
  {
   "cell_type": "code",
   "execution_count": null,
   "metadata": {},
   "outputs": [],
   "source": [
    "from tqdm import tqdm\n",
    "from python_speech_features import mfcc\n",
    "from sklearn.preprocessing import LabelEncoder, OneHotEncoder\n",
    "from sklearn.model_selection import train_test_split\n",
    "from sklearn.metrics import confusion_matrix"
   ]
  },
  {
   "cell_type": "code",
   "execution_count": null,
   "metadata": {},
   "outputs": [],
   "source": [
    "from keras.layers import Conv2D, MaxPool2D, Flatten, Dense, Dropout\n",
    "from keras.models import Sequential"
   ]
  },
  {
   "cell_type": "code",
   "execution_count": 4,
   "metadata": {},
   "outputs": [
    {
     "data": {
      "text/html": [
       "<div>\n",
       "<style scoped>\n",
       "    .dataframe tbody tr th:only-of-type {\n",
       "        vertical-align: middle;\n",
       "    }\n",
       "\n",
       "    .dataframe tbody tr th {\n",
       "        vertical-align: top;\n",
       "    }\n",
       "\n",
       "    .dataframe thead th {\n",
       "        text-align: right;\n",
       "    }\n",
       "</style>\n",
       "<table border=\"1\" class=\"dataframe\">\n",
       "  <thead>\n",
       "    <tr style=\"text-align: right;\">\n",
       "      <th></th>\n",
       "      <th>fname</th>\n",
       "      <th>label</th>\n",
       "      <th>manually_verified</th>\n",
       "    </tr>\n",
       "  </thead>\n",
       "  <tbody>\n",
       "    <tr>\n",
       "      <th>0</th>\n",
       "      <td>00044347.wav</td>\n",
       "      <td>Hi-hat</td>\n",
       "      <td>0</td>\n",
       "    </tr>\n",
       "    <tr>\n",
       "      <th>1</th>\n",
       "      <td>001ca53d.wav</td>\n",
       "      <td>Saxophone</td>\n",
       "      <td>1</td>\n",
       "    </tr>\n",
       "    <tr>\n",
       "      <th>2</th>\n",
       "      <td>002d256b.wav</td>\n",
       "      <td>Trumpet</td>\n",
       "      <td>0</td>\n",
       "    </tr>\n",
       "    <tr>\n",
       "      <th>3</th>\n",
       "      <td>0033e230.wav</td>\n",
       "      <td>Glockenspiel</td>\n",
       "      <td>1</td>\n",
       "    </tr>\n",
       "    <tr>\n",
       "      <th>4</th>\n",
       "      <td>00353774.wav</td>\n",
       "      <td>Cello</td>\n",
       "      <td>1</td>\n",
       "    </tr>\n",
       "  </tbody>\n",
       "</table>\n",
       "</div>"
      ],
      "text/plain": [
       "          fname         label  manually_verified\n",
       "0  00044347.wav        Hi-hat                  0\n",
       "1  001ca53d.wav     Saxophone                  1\n",
       "2  002d256b.wav       Trumpet                  0\n",
       "3  0033e230.wav  Glockenspiel                  1\n",
       "4  00353774.wav         Cello                  1"
      ]
     },
     "execution_count": 4,
     "metadata": {},
     "output_type": "execute_result"
    }
   ],
   "source": [
    "df = pd.read_csv('train.csv')\n",
    "df.head()"
   ]
  },
  {
   "cell_type": "code",
   "execution_count": 5,
   "metadata": {},
   "outputs": [],
   "source": [
    "df = df[df['label'].isin(['Cello','Saxophone','Acoustic_guitar','Double_bass', 'Clarinet'])]"
   ]
  },
  {
   "cell_type": "code",
   "execution_count": 6,
   "metadata": {},
   "outputs": [
    {
     "name": "stderr",
     "output_type": "stream",
     "text": [
      "100%|██████████| 1500/1500 [06:51<00:00,  3.64it/s]\n",
      "<ipython-input-6-930df66aaf4a>:5: VisibleDeprecationWarning: Creating an ndarray from ragged nested sequences (which is a list-or-tuple of lists-or-tuples-or ndarrays with different lengths or shapes) is deprecated. If you meant to do this, you must specify 'dtype=object' when creating the ndarray\n",
      "  audio_data = np.array(audio_data)\n"
     ]
    }
   ],
   "source": [
    "path = 'audio_train/'\n",
    "audio_data = list()\n",
    "for i in tqdm(range(df.shape[0])):\n",
    "    audio_data.append(librosa.load(path+df['fname'].iloc[i]))\n",
    "audio_data = np.array(audio_data)"
   ]
  },
  {
   "cell_type": "code",
   "execution_count": 10,
   "metadata": {},
   "outputs": [
    {
     "data": {
      "text/html": [
       "<div>\n",
       "<style scoped>\n",
       "    .dataframe tbody tr th:only-of-type {\n",
       "        vertical-align: middle;\n",
       "    }\n",
       "\n",
       "    .dataframe tbody tr th {\n",
       "        vertical-align: top;\n",
       "    }\n",
       "\n",
       "    .dataframe thead th {\n",
       "        text-align: right;\n",
       "    }\n",
       "</style>\n",
       "<table border=\"1\" class=\"dataframe\">\n",
       "  <thead>\n",
       "    <tr style=\"text-align: right;\">\n",
       "      <th></th>\n",
       "      <th>fname</th>\n",
       "      <th>label</th>\n",
       "      <th>manually_verified</th>\n",
       "      <th>audio_waves</th>\n",
       "      <th>samplerate</th>\n",
       "      <th>bit_lengths</th>\n",
       "      <th>seconds_length</th>\n",
       "    </tr>\n",
       "  </thead>\n",
       "  <tbody>\n",
       "    <tr>\n",
       "      <th>1</th>\n",
       "      <td>001ca53d.wav</td>\n",
       "      <td>Saxophone</td>\n",
       "      <td>1</td>\n",
       "      <td>[-0.0007303721, -0.0010996412, -0.0010551845, ...</td>\n",
       "      <td>22050</td>\n",
       "      <td>227556</td>\n",
       "      <td>10.32</td>\n",
       "    </tr>\n",
       "    <tr>\n",
       "      <th>4</th>\n",
       "      <td>00353774.wav</td>\n",
       "      <td>Cello</td>\n",
       "      <td>1</td>\n",
       "      <td>[-0.003822653, -0.0053708917, -0.0044372473, -...</td>\n",
       "      <td>22050</td>\n",
       "      <td>99666</td>\n",
       "      <td>4.52</td>\n",
       "    </tr>\n",
       "    <tr>\n",
       "      <th>5</th>\n",
       "      <td>003b91e8.wav</td>\n",
       "      <td>Cello</td>\n",
       "      <td>0</td>\n",
       "      <td>[0.0031921505, 0.0048865937, 0.004513402, 0.00...</td>\n",
       "      <td>22050</td>\n",
       "      <td>292824</td>\n",
       "      <td>13.28</td>\n",
       "    </tr>\n",
       "    <tr>\n",
       "      <th>8</th>\n",
       "      <td>004ad66f.wav</td>\n",
       "      <td>Clarinet</td>\n",
       "      <td>0</td>\n",
       "      <td>[-0.00018609133, -0.00029739283, -0.0003075322...</td>\n",
       "      <td>22050</td>\n",
       "      <td>154350</td>\n",
       "      <td>7</td>\n",
       "    </tr>\n",
       "    <tr>\n",
       "      <th>14</th>\n",
       "      <td>0091fc7f.wav</td>\n",
       "      <td>Cello</td>\n",
       "      <td>1</td>\n",
       "      <td>[0.00042805163, 0.0005860274, 0.00045838652, 0...</td>\n",
       "      <td>22050</td>\n",
       "      <td>125685</td>\n",
       "      <td>5.7</td>\n",
       "    </tr>\n",
       "  </tbody>\n",
       "</table>\n",
       "</div>"
      ],
      "text/plain": [
       "           fname      label  manually_verified  \\\n",
       "1   001ca53d.wav  Saxophone                  1   \n",
       "4   00353774.wav      Cello                  1   \n",
       "5   003b91e8.wav      Cello                  0   \n",
       "8   004ad66f.wav   Clarinet                  0   \n",
       "14  0091fc7f.wav      Cello                  1   \n",
       "\n",
       "                                          audio_waves samplerate  bit_lengths  \\\n",
       "1   [-0.0007303721, -0.0010996412, -0.0010551845, ...      22050       227556   \n",
       "4   [-0.003822653, -0.0053708917, -0.0044372473, -...      22050        99666   \n",
       "5   [0.0031921505, 0.0048865937, 0.004513402, 0.00...      22050       292824   \n",
       "8   [-0.00018609133, -0.00029739283, -0.0003075322...      22050       154350   \n",
       "14  [0.00042805163, 0.0005860274, 0.00045838652, 0...      22050       125685   \n",
       "\n",
       "   seconds_length  \n",
       "1           10.32  \n",
       "4            4.52  \n",
       "5           13.28  \n",
       "8               7  \n",
       "14            5.7  "
      ]
     },
     "execution_count": 10,
     "metadata": {},
     "output_type": "execute_result"
    }
   ],
   "source": [
    "df['audio_waves'] = audio_data[:,0]\n",
    "df['samplerate'] = audio_data[:,1]\n",
    "df.head()"
   ]
  },
  {
   "cell_type": "code",
   "execution_count": 11,
   "metadata": {},
   "outputs": [
    {
     "data": {
      "text/html": [
       "<div>\n",
       "<style scoped>\n",
       "    .dataframe tbody tr th:only-of-type {\n",
       "        vertical-align: middle;\n",
       "    }\n",
       "\n",
       "    .dataframe tbody tr th {\n",
       "        vertical-align: top;\n",
       "    }\n",
       "\n",
       "    .dataframe thead th {\n",
       "        text-align: right;\n",
       "    }\n",
       "</style>\n",
       "<table border=\"1\" class=\"dataframe\">\n",
       "  <thead>\n",
       "    <tr style=\"text-align: right;\">\n",
       "      <th></th>\n",
       "      <th>fname</th>\n",
       "      <th>label</th>\n",
       "      <th>manually_verified</th>\n",
       "      <th>audio_waves</th>\n",
       "      <th>samplerate</th>\n",
       "      <th>bit_lengths</th>\n",
       "      <th>seconds_length</th>\n",
       "    </tr>\n",
       "  </thead>\n",
       "  <tbody>\n",
       "    <tr>\n",
       "      <th>1</th>\n",
       "      <td>001ca53d.wav</td>\n",
       "      <td>Saxophone</td>\n",
       "      <td>1</td>\n",
       "      <td>[-0.0007303721, -0.0010996412, -0.0010551845, ...</td>\n",
       "      <td>22050</td>\n",
       "      <td>227556</td>\n",
       "      <td>10.32</td>\n",
       "    </tr>\n",
       "    <tr>\n",
       "      <th>4</th>\n",
       "      <td>00353774.wav</td>\n",
       "      <td>Cello</td>\n",
       "      <td>1</td>\n",
       "      <td>[-0.003822653, -0.0053708917, -0.0044372473, -...</td>\n",
       "      <td>22050</td>\n",
       "      <td>99666</td>\n",
       "      <td>4.52</td>\n",
       "    </tr>\n",
       "    <tr>\n",
       "      <th>5</th>\n",
       "      <td>003b91e8.wav</td>\n",
       "      <td>Cello</td>\n",
       "      <td>0</td>\n",
       "      <td>[0.0031921505, 0.0048865937, 0.004513402, 0.00...</td>\n",
       "      <td>22050</td>\n",
       "      <td>292824</td>\n",
       "      <td>13.28</td>\n",
       "    </tr>\n",
       "    <tr>\n",
       "      <th>8</th>\n",
       "      <td>004ad66f.wav</td>\n",
       "      <td>Clarinet</td>\n",
       "      <td>0</td>\n",
       "      <td>[-0.00018609133, -0.00029739283, -0.0003075322...</td>\n",
       "      <td>22050</td>\n",
       "      <td>154350</td>\n",
       "      <td>7</td>\n",
       "    </tr>\n",
       "    <tr>\n",
       "      <th>14</th>\n",
       "      <td>0091fc7f.wav</td>\n",
       "      <td>Cello</td>\n",
       "      <td>1</td>\n",
       "      <td>[0.00042805163, 0.0005860274, 0.00045838652, 0...</td>\n",
       "      <td>22050</td>\n",
       "      <td>125685</td>\n",
       "      <td>5.7</td>\n",
       "    </tr>\n",
       "  </tbody>\n",
       "</table>\n",
       "</div>"
      ],
      "text/plain": [
       "           fname      label  manually_verified  \\\n",
       "1   001ca53d.wav  Saxophone                  1   \n",
       "4   00353774.wav      Cello                  1   \n",
       "5   003b91e8.wav      Cello                  0   \n",
       "8   004ad66f.wav   Clarinet                  0   \n",
       "14  0091fc7f.wav      Cello                  1   \n",
       "\n",
       "                                          audio_waves samplerate  bit_lengths  \\\n",
       "1   [-0.0007303721, -0.0010996412, -0.0010551845, ...      22050       227556   \n",
       "4   [-0.003822653, -0.0053708917, -0.0044372473, -...      22050        99666   \n",
       "5   [0.0031921505, 0.0048865937, 0.004513402, 0.00...      22050       292824   \n",
       "8   [-0.00018609133, -0.00029739283, -0.0003075322...      22050       154350   \n",
       "14  [0.00042805163, 0.0005860274, 0.00045838652, 0...      22050       125685   \n",
       "\n",
       "   seconds_length  \n",
       "1           10.32  \n",
       "4            4.52  \n",
       "5           13.28  \n",
       "8               7  \n",
       "14            5.7  "
      ]
     },
     "execution_count": 11,
     "metadata": {},
     "output_type": "execute_result"
    }
   ],
   "source": [
    "bit_lengths = list()\n",
    "for i in range(df.shape[0]):\n",
    "    bit_lengths.append(len(df['audio_waves'].iloc[i]))\n",
    "bit_lengths = np.array(bit_lengths)\n",
    "df['bit_lengths'] = bit_lengths\n",
    "df['seconds_length'] = df['bit_lengths']/df['samplerate']\n",
    "df.head()"
   ]
  },
  {
   "cell_type": "code",
   "execution_count": 21,
   "metadata": {},
   "outputs": [],
   "source": [
    "#langkah ke 2"
   ]
  },
  {
   "cell_type": "code",
   "execution_count": 17,
   "metadata": {},
   "outputs": [],
   "source": [
    "df = df[df['seconds_length'] >= 2.0]"
   ]
  },
  {
   "cell_type": "code",
   "execution_count": 16,
   "metadata": {},
   "outputs": [
    {
     "name": "stdout",
     "output_type": "stream",
     "text": [
      "7056\n",
      "0.32\n"
     ]
    }
   ],
   "source": [
    "min_bits = np.min(df['bit_lengths'])\n",
    "print(min_bits)\n",
    "min_seconds = np.min(df['seconds_length'])\n",
    "print(min_seconds)"
   ]
  },
  {
   "cell_type": "code",
   "execution_count": 18,
   "metadata": {},
   "outputs": [],
   "source": [
    "with open('audio_df.pickle', 'wb') as f:\n",
    "    pickle.dump(df, f)"
   ]
  },
  {
   "cell_type": "code",
   "execution_count": 19,
   "metadata": {},
   "outputs": [],
   "source": [
    "with open('audio_df.pickle', 'rb') as f:\n",
    "    df = pickle.load(f)"
   ]
  },
  {
   "cell_type": "code",
   "execution_count": 20,
   "metadata": {},
   "outputs": [
    {
     "name": "stderr",
     "output_type": "stream",
     "text": [
      "100%|██████████| 6000/6000 [00:11<00:00, 516.27it/s]\n"
     ]
    }
   ],
   "source": [
    "num_samples = 6000\n",
    "generated_audio_waves = list()\n",
    "generated_audio_labels = list()\n",
    "for i in tqdm(range(num_samples)):\n",
    "    try:\n",
    "        chosen_file = np.random.choice(df['fname'].values)\n",
    "        chosen_initial = np.random.choice(np.arange(0,df[df['fname']==chosen_file]['bit_lengths'].values-min_bits))\n",
    "        generated_audio_waves.append(df[df['fname']==chosen_file]['audio_waves'].values[0][chosen_initial:chosen_initial+min_bits])\n",
    "        \n",
    "        generated_audio_labels.append(df[df['fname']==chosen_file]['label'].values)\n",
    "    except ValueError:\n",
    "        continue\n",
    "generated_audio_waves = np.array(generated_audio_waves)\n",
    "generated_audio_labels = np.array(generated_audio_labels)"
   ]
  },
  {
   "cell_type": "code",
   "execution_count": 22,
   "metadata": {},
   "outputs": [],
   "source": [
    "#langkah 3"
   ]
  },
  {
   "cell_type": "code",
   "execution_count": 23,
   "metadata": {},
   "outputs": [
    {
     "name": "stderr",
     "output_type": "stream",
     "text": [
      "100%|██████████| 6000/6000 [00:16<00:00, 363.19it/s]\n"
     ]
    }
   ],
   "source": [
    "mfcc_features = list()\n",
    "for i in tqdm(range(len(generated_audio_waves))):\n",
    "    mfcc_features.append(mfcc(generated_audio_waves[i]))\n",
    "mfcc_features = np.array(mfcc_features)"
   ]
  },
  {
   "cell_type": "code",
   "execution_count": 24,
   "metadata": {},
   "outputs": [
    {
     "name": "stdout",
     "output_type": "stream",
     "text": [
      "(6000, 7056)\n",
      "(6000, 43, 13)\n"
     ]
    }
   ],
   "source": [
    "print(generated_audio_waves.shape)\n",
    "print(mfcc_features.shape)"
   ]
  },
  {
   "cell_type": "code",
   "execution_count": 25,
   "metadata": {},
   "outputs": [
    {
     "data": {
      "image/png": "[encoded data removed]",
      "text/plain": [
       "<Figure size 864x144 with 1 Axes>"
      ]
     },
     "metadata": {
      "needs_background": "light"
     },
     "output_type": "display_data"
    },
    {
     "data": {
      "image/png": "[encoded data removed]",
      "text/plain": [
       "<Figure size 864x144 with 1 Axes>"
      ]
     },
     "metadata": {
      "needs_background": "light"
     },
     "output_type": "display_data"
    }
   ],
   "source": [
    "plt.figure(figsize=(12,2))\n",
    "plt.plot(generated_audio_waves[30])\n",
    "plt.title(generated_audio_labels[30])\n",
    "plt.show()\n",
    "plt.figure(figsize=(12, 2))\n",
    "plt.imshow(mfcc_features[30].T, cmap='hot')\n",
    "plt.title(generated_audio_labels[30])\n",
    "plt.show()"
   ]
  },
  {
   "cell_type": "code",
   "execution_count": 26,
   "metadata": {},
   "outputs": [],
   "source": [
    "#langkah 4"
   ]
  },
  {
   "cell_type": "code",
   "execution_count": 27,
   "metadata": {},
   "outputs": [
    {
     "name": "stdout",
     "output_type": "stream",
     "text": [
      "[3 4 3 ... 3 0 4]\n"
     ]
    },
    {
     "name": "stderr",
     "output_type": "stream",
     "text": [
      "C:\\Users\\Rama\\anaconda3\\lib\\site-packages\\sklearn\\utils\\validation.py:72: DataConversionWarning: A column-vector y was passed when a 1d array was expected. Please change the shape of y to (n_samples, ), for example using ravel().\n",
      "  return f(**kwargs)\n"
     ]
    }
   ],
   "source": [
    "label_encoder = LabelEncoder()\n",
    "label_encoded = label_encoder.fit_transform(generated_audio_labels)\n",
    "print(label_encoded)"
   ]
  },
  {
   "cell_type": "code",
   "execution_count": 31,
   "metadata": {},
   "outputs": [
    {
     "data": {
      "text/plain": [
       "array([[3],\n",
       "       [4],\n",
       "       [3],\n",
       "       ...,\n",
       "       [3],\n",
       "       [0],\n",
       "       [4]])"
      ]
     },
     "execution_count": 31,
     "metadata": {},
     "output_type": "execute_result"
    }
   ],
   "source": [
    "label_encoded = label_encoded [:, np.newaxis] \n",
    "label_encoded"
   ]
  },
  {
   "cell_type": "code",
   "execution_count": 32,
   "metadata": {},
   "outputs": [
    {
     "data": {
      "text/plain": [
       "array([[0., 0., 0., 1., 0.],\n",
       "       [0., 0., 0., 0., 1.],\n",
       "       [0., 0., 0., 1., 0.],\n",
       "       ...,\n",
       "       [0., 0., 0., 1., 0.],\n",
       "       [1., 0., 0., 0., 0.],\n",
       "       [0., 0., 0., 0., 1.]])"
      ]
     },
     "execution_count": 32,
     "metadata": {},
     "output_type": "execute_result"
    }
   ],
   "source": [
    "one_hot_encoder = OneHotEncoder(sparse=False)\n",
    "one_hot_encoded = one_hot_encoder.fit_transform(label_encoded)\n",
    "one_hot_encoded"
   ]
  },
  {
   "cell_type": "code",
   "execution_count": 33,
   "metadata": {},
   "outputs": [],
   "source": [
    "#langkah 5"
   ]
  },
  {
   "cell_type": "code",
   "execution_count": 34,
   "metadata": {},
   "outputs": [],
   "source": [
    "X = mfcc_features\n",
    "y = one_hot_encoded\n",
    "X = (X-X.min())/(X.max()-X.min())\n",
    "X_train, X_test, y_train, y_test = train_test_split(X, y, test_size=0.2)"
   ]
  },
  {
   "cell_type": "code",
   "execution_count": 35,
   "metadata": {},
   "outputs": [],
   "source": [
    "input_shape = (X_train.shape[1], X_train.shape[2], 1)"
   ]
  },
  {
   "cell_type": "code",
   "execution_count": 36,
   "metadata": {},
   "outputs": [
    {
     "name": "stdout",
     "output_type": "stream",
     "text": [
      "(4800, 43, 13, 1)\n",
      "(1200, 43, 13, 1)\n"
     ]
    }
   ],
   "source": [
    "X_train = X_train.reshape(X_train.shape[0], X_train.shape[1], X_train.shape[2], 1)\n",
    "print(X_train.shape)\n",
    "X_test = X_test.reshape(X_test.shape[0], X_test.shape[1], X_test.shape[2], 1)\n",
    "print(X_test.shape)"
   ]
  },
  {
   "cell_type": "code",
   "execution_count": 37,
   "metadata": {},
   "outputs": [],
   "source": [
    "model = Sequential()\n",
    "model.add(Conv2D(16, (3, 3), activation='relu', strides=(1, 1), \n",
    "    padding='same', input_shape=input_shape))\n",
    "model.add(Conv2D(32, (3, 3), activation='relu', strides=(1, 1), \n",
    "    padding='same'))\n",
    "model.add(MaxPool2D((2, 2)))\n",
    "model.add(Dropout(0.5))\n",
    "model.add(Flatten())\n",
    "model.add(Dense(128, activation='relu'))\n",
    "model.add(Dropout(0.5))\n",
    "model.add(Dense(64, activation='relu'))\n",
    "model.add(Dropout(0.5))\n",
    "model.add(Dense(5, activation='softmax'))\n",
    "\n",
    "model.compile(loss='categorical_crossentropy', \n",
    "     optimizer='adam',\n",
    "     metrics=['acc'])"
   ]
  },
  {
   "cell_type": "code",
   "execution_count": 38,
   "metadata": {},
   "outputs": [
    {
     "name": "stdout",
     "output_type": "stream",
     "text": [
      "Epoch 1/30\n",
      "150/150 [==============================] - 20s 30ms/step - loss: 1.5531 - acc: 0.2710 - val_loss: 1.2321 - val_acc: 0.4500\n",
      "Epoch 2/30\n",
      "150/150 [==============================] - 4s 24ms/step - loss: 1.2952 - acc: 0.4353 - val_loss: 1.1605 - val_acc: 0.5400\n",
      "Epoch 3/30\n",
      "150/150 [==============================] - 4s 24ms/step - loss: 1.1816 - acc: 0.5175 - val_loss: 1.0454 - val_acc: 0.5767\n",
      "Epoch 4/30\n",
      "150/150 [==============================] - 4s 26ms/step - loss: 1.0941 - acc: 0.5694 - val_loss: 0.9985 - val_acc: 0.6067\n",
      "Epoch 5/30\n",
      "150/150 [==============================] - 4s 25ms/step - loss: 1.0462 - acc: 0.5967 - val_loss: 0.9498 - val_acc: 0.6033\n",
      "Epoch 6/30\n",
      "150/150 [==============================] - 4s 26ms/step - loss: 0.9842 - acc: 0.6192 - val_loss: 0.9124 - val_acc: 0.6292\n",
      "Epoch 7/30\n",
      "150/150 [==============================] - 4s 27ms/step - loss: 0.9649 - acc: 0.6295 - val_loss: 0.8700 - val_acc: 0.6600oss: 0.9588  - ETA: 0s - loss: 0.9628 \n",
      "Epoch 8/30\n",
      "150/150 [==============================] - 4s 27ms/step - loss: 0.9449 - acc: 0.6426 - val_loss: 0.8337 - val_acc: 0.6758\n",
      "Epoch 9/30\n",
      "150/150 [==============================] - 4s 26ms/step - loss: 0.9120 - acc: 0.6379 - val_loss: 0.8402 - val_acc: 0.6683\n",
      "Epoch 10/30\n",
      "150/150 [==============================] - 4s 25ms/step - loss: 0.8976 - acc: 0.6530 - val_loss: 0.8129 - val_acc: 0.6900\n",
      "Epoch 11/30\n",
      "150/150 [==============================] - 4s 26ms/step - loss: 0.8624 - acc: 0.6611 - val_loss: 0.8423 - val_acc: 0.6642\n",
      "Epoch 12/30\n",
      "150/150 [==============================] - 4s 26ms/step - loss: 0.8570 - acc: 0.6738 - val_loss: 0.8106 - val_acc: 0.6633\n",
      "Epoch 13/30\n",
      "150/150 [==============================] - 4s 27ms/step - loss: 0.8386 - acc: 0.6648 - val_loss: 0.7864 - val_acc: 0.6992\n",
      "Epoch 14/30\n",
      "150/150 [==============================] - 4s 25ms/step - loss: 0.8374 - acc: 0.6942 - val_loss: 0.7904 - val_acc: 0.6808\n",
      "Epoch 15/30\n",
      "150/150 [==============================] - 4s 24ms/step - loss: 0.8480 - acc: 0.6698 - val_loss: 0.7717 - val_acc: 0.6975\n",
      "Epoch 16/30\n",
      "150/150 [==============================] - 4s 25ms/step - loss: 0.8097 - acc: 0.6930 - val_loss: 0.7896 - val_acc: 0.7092\n",
      "Epoch 17/30\n",
      "150/150 [==============================] - 4s 26ms/step - loss: 0.8032 - acc: 0.6824 - val_loss: 0.7324 - val_acc: 0.7275\n",
      "Epoch 18/30\n",
      "150/150 [==============================] - 4s 26ms/step - loss: 0.7714 - acc: 0.7080 - val_loss: 0.7463 - val_acc: 0.7133\n",
      "Epoch 19/30\n",
      "150/150 [==============================] - 4s 24ms/step - loss: 0.8040 - acc: 0.6951 - val_loss: 0.7553 - val_acc: 0.7083\n",
      "Epoch 20/30\n",
      "150/150 [==============================] - 4s 24ms/step - loss: 0.7389 - acc: 0.7148 - val_loss: 0.7095 - val_acc: 0.7333\n",
      "Epoch 21/30\n",
      "150/150 [==============================] - 4s 25ms/step - loss: 0.7755 - acc: 0.6895 - val_loss: 0.7214 - val_acc: 0.7250\n",
      "Epoch 22/30\n",
      "150/150 [==============================] - 4s 26ms/step - loss: 0.7470 - acc: 0.7120 - val_loss: 0.7165 - val_acc: 0.7167\n",
      "Epoch 23/30\n",
      "150/150 [==============================] - 4s 25ms/step - loss: 0.7253 - acc: 0.7311 - val_loss: 0.7299 - val_acc: 0.7125\n",
      "Epoch 24/30\n",
      "150/150 [==============================] - 4s 25ms/step - loss: 0.6937 - acc: 0.7356 - val_loss: 0.7354 - val_acc: 0.7125\n",
      "Epoch 25/30\n",
      "150/150 [==============================] - 4s 25ms/step - loss: 0.7228 - acc: 0.7162 - val_loss: 0.6903 - val_acc: 0.7358\n",
      "Epoch 26/30\n",
      "150/150 [==============================] - 4s 28ms/step - loss: 0.7119 - acc: 0.7335 - val_loss: 0.6828 - val_acc: 0.7450\n",
      "Epoch 27/30\n",
      "150/150 [==============================] - 4s 24ms/step - loss: 0.6642 - acc: 0.7513 - val_loss: 0.6733 - val_acc: 0.7450\n",
      "Epoch 28/30\n",
      "150/150 [==============================] - 4s 24ms/step - loss: 0.6906 - acc: 0.7377 - val_loss: 0.6655 - val_acc: 0.7517\n",
      "Epoch 29/30\n",
      "150/150 [==============================] - 4s 25ms/step - loss: 0.6647 - acc: 0.7449 - val_loss: 0.6668 - val_acc: 0.7417\n",
      "Epoch 30/30\n",
      "150/150 [==============================] - 4s 26ms/step - loss: 0.6815 - acc: 0.7344 - val_loss: 0.6658 - val_acc: 0.7492\n"
     ]
    }
   ],
   "source": [
    "history = model.fit(X_train, y_train, epochs=30, validation_data=(X_test, y_test))"
   ]
  },
  {
   "cell_type": "code",
   "execution_count": 39,
   "metadata": {},
   "outputs": [
    {
     "name": "stdout",
     "output_type": "stream",
     "text": [
      "loss: 0.6749134063720703\n",
      "val_loss: 0.6658230423927307\n"
     ]
    },
    {
     "data": {
      "image/png": "[encoded data removed]",
      "text/plain": [
       "<Figure size 576x576 with 1 Axes>"
      ]
     },
     "metadata": {
      "needs_background": "light"
     },
     "output_type": "display_data"
    },
    {
     "name": "stdout",
     "output_type": "stream",
     "text": [
      "acc: 0.7387499809265137\n",
      "val_acc: 0.7491666674613953\n"
     ]
    },
    {
     "data": {
      "image/png": "[encoded data removed]",
      "text/plain": [
       "<Figure size 576x576 with 1 Axes>"
      ]
     },
     "metadata": {
      "needs_background": "light"
     },
     "output_type": "display_data"
    }
   ],
   "source": [
    "plt.figure (figsize = (8,8)) \n",
    "plt.title ('Loss Value') \n",
    "plt.plot (history.history ['loss']) \n",
    "plt.plot (history.history ['val_loss']) \n",
    "plt.legend (['loss', 'val_loss']) \n",
    "print ('loss:', history.history ['loss'] [- 1]) \n",
    "print ('val_loss:', history.history ['val_loss'] [- 1] ) \n",
    "plt.show ()\n",
    "plt.figure (figsize = (8,8)) \n",
    "plt.title ('Accuracy') \n",
    "plt.plot (history.history ['acc']) \n",
    "plt.plot (history.history ['val_acc']) \n",
    "plt.legend ( ['acc', 'val_acc']) \n",
    "print ('acc:', history.history ['acc'] [- 1]) \n",
    "print ('val_acc:', history.history ['val_acc'] [- 1]) \n",
    "plt.show ()"
   ]
  },
  {
   "cell_type": "code",
   "execution_count": 40,
   "metadata": {},
   "outputs": [],
   "source": [
    "#langkah 6"
   ]
  },
  {
   "cell_type": "code",
   "execution_count": 46,
   "metadata": {},
   "outputs": [],
   "source": [
    "predictions = model.predict(X_test)"
   ]
  },
  {
   "cell_type": "code",
   "execution_count": 47,
   "metadata": {},
   "outputs": [],
   "source": [
    "predictions = np.argmax(predictions, axis=1)\n",
    "y_test = one_hot_encoder.inverse_transform(y_test)"
   ]
  },
  {
   "cell_type": "code",
   "execution_count": 48,
   "metadata": {},
   "outputs": [
    {
     "data": {
      "image/png": "[encoded data removed]",
      "text/plain": [
       "<Figure size 576x576 with 1 Axes>"
      ]
     },
     "metadata": {
      "needs_background": "light"
     },
     "output_type": "display_data"
    }
   ],
   "source": [
    "cm = confusion_matrix(y_test, predictions)\n",
    "plt.figure(figsize=(8,8))\n",
    "sns.heatmap(cm, annot=True, xticklabels=label_encoder.classes_, yticklabels=label_encoder.classes_, fmt='d', cmap=plt.cm.Blues, cbar=False)\n",
    "plt.xlabel('Predicted Label')\n",
    "plt.ylabel('True Label')\n",
    "plt.show()"
   ]
  },
  {
   "cell_type": "code",
   "execution_count": null,
   "metadata": {},
   "outputs": [],
   "source": []
  }
 ],
 "metadata": {
  "kernelspec": {
   "display_name": "Python 3",
   "language": "python",
   "name": "python3"
  },
  "language_info": {
   "codemirror_mode": {
    "name": "ipython",
    "version": 3
   },
   "file_extension": ".py",
   "mimetype": "text/x-python",
   "name": "python",
   "nbconvert_exporter": "python",
   "pygments_lexer": "ipython3",
   "version": "3.8.5"
  }
 },
 "nbformat": 4,
 "nbformat_minor": 4
}
